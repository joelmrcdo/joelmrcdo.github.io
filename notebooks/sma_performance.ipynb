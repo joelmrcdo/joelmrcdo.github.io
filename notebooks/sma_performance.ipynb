{
 "cells": [
  {
   "cell_type": "markdown",
   "metadata": {},
   "source": [
    "# SMA Performance\n",
    "This notebook fetches SPY data and plots a simple moving average crossover."
   ]
  },
  {
   "cell_type": "code",
   "metadata": {},
   "execution_count": null,
   "outputs": [],
   "source": [
    "import pandas as pd\n",
    "import matplotlib.pyplot as plt\n",
    "plt.rcParams['figure.dpi'] = 150\n",
    "try:\n",
    "    import yfinance as yf\n",
    "    data = yf.download('SPY', start='2020-01-01', end='2020-12-31')\n",
    "except Exception as e:\n",
    "    print('Using fallback data:', e)\n",
    "    csv = '''Date,Close\n2020-01-01,320\n2020-02-01,330\n2020-03-01,280\n2020-04-01,290\n2020-05-01,300\n2020-06-01,310\n2020-07-01,320\n2020-08-01,330\n2020-09-01,340\n2020-10-01,350\n2020-11-01,360\n2020-12-01,370'''\n",
    "    from io import StringIO\n",
    "    data = pd.read_csv(StringIO(csv), parse_dates=['Date']).set_index('Date')\n",
    "data['fast_ma'] = data['Close'].rolling(3).mean()\n",
    "data['slow_ma'] = data['Close'].rolling(6).mean()\n",
    "ax = data[['fast_ma', 'slow_ma']].plot(title='SMA Crossover')\n",
    "plt.show()"
   ]
  }
 ],
 "metadata": {
  "kernelspec": {
   "display_name": "Python 3",
   "language": "python",
   "name": "python3"
  },
  "language_info": {
   "name": "python",
   "version": "3.10"
  }
 },
 "nbformat": 4,
 "nbformat_minor": 5
}
