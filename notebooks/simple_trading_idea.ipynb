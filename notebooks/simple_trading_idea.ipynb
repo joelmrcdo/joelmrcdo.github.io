{
 "cells": [
  {
   "cell_type": "markdown",
   "metadata": {},
   "source": [
    "# Simple Moving Average Crossover\n",
    "This example downloads daily prices for SPY and computes two moving averages. The crossover of the fast and slow averages is used as a trading signal."
   ]
  },
  {
   "cell_type": "code",
   "metadata": {},
   "execution_count": null,
   "outputs": [],
   "source": [
    "import pandas as pd\n",
    "import yfinance as yf\n",
    "\n",
    "data = yf.download('SPY', start='2020-01-01', end='2020-12-31')\n",
    "data['fast_ma'] = data['Close'].rolling(window=20).mean()\n",
    "data['slow_ma'] = data['Close'].rolling(window=50).mean()\n",
    "signals = (data['fast_ma'] > data['slow_ma']).astype(int)\n",
    "signals.value_counts()"
   ]
  }
 ],
 "metadata": {
  "kernelspec": {
   "display_name": "Python 3",
   "language": "python",
   "name": "python3"
  },
  "language_info": {
   "name": "python",
   "version": "3.8"
  }
 },
 "nbformat": 4,
 "nbformat_minor": 4
}
